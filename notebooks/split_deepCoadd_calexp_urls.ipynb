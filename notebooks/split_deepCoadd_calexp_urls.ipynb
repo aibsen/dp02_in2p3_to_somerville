{
 "cells": [
  {
   "cell_type": "code",
   "execution_count": 5,
   "id": "bee1fe44-7f1f-428a-a2c8-76d1fee92ae8",
   "metadata": {},
   "outputs": [],
   "source": [
    "import pandas as pd\n",
    "import numpy as np"
   ]
  },
  {
   "cell_type": "code",
   "execution_count": 3,
   "id": "94e3883f-91ac-4fb2-9f2e-4a2f203ee6a6",
   "metadata": {},
   "outputs": [
    {
     "data": {
      "text/html": [
       "<div>\n",
       "<style scoped>\n",
       "    .dataframe tbody tr th:only-of-type {\n",
       "        vertical-align: middle;\n",
       "    }\n",
       "\n",
       "    .dataframe tbody tr th {\n",
       "        vertical-align: top;\n",
       "    }\n",
       "\n",
       "    .dataframe thead th {\n",
       "        text-align: right;\n",
       "    }\n",
       "</style>\n",
       "<table border=\"1\" class=\"dataframe\">\n",
       "  <thead>\n",
       "    <tr style=\"text-align: right;\">\n",
       "      <th></th>\n",
       "      <th>https://ccnetlsst04.in2p3.fr:65105/2.2i/runs/FRDF/DP0.2/PREOPS-1145/step3_31/20220629T074928Z/deepCoadd_calexp/5073/26/y/deepCoadd_calexp_5073_26_y_DC2_2_2i_runs_FRDF_DP0_2_PREOPS-1145_step3_31_20220629T074928Z.fits</th>\n",
       "    </tr>\n",
       "  </thead>\n",
       "  <tbody>\n",
       "    <tr>\n",
       "      <th>0</th>\n",
       "      <td>https://ccnetlsst03.in2p3.fr:65105/2.2i/runs/F...</td>\n",
       "    </tr>\n",
       "    <tr>\n",
       "      <th>1</th>\n",
       "      <td>https://ccnetlsst02.in2p3.fr:65105/2.2i/runs/F...</td>\n",
       "    </tr>\n",
       "    <tr>\n",
       "      <th>2</th>\n",
       "      <td>https://ccnetlsst02.in2p3.fr:65105/2.2i/runs/F...</td>\n",
       "    </tr>\n",
       "    <tr>\n",
       "      <th>3</th>\n",
       "      <td>https://ccnetlsst03.in2p3.fr:65105/2.2i/runs/F...</td>\n",
       "    </tr>\n",
       "    <tr>\n",
       "      <th>4</th>\n",
       "      <td>https://ccnetlsst03.in2p3.fr:65105/2.2i/runs/F...</td>\n",
       "    </tr>\n",
       "  </tbody>\n",
       "</table>\n",
       "</div>"
      ],
      "text/plain": [
       "  https://ccnetlsst04.in2p3.fr:65105/2.2i/runs/FRDF/DP0.2/PREOPS-1145/step3_31/20220629T074928Z/deepCoadd_calexp/5073/26/y/deepCoadd_calexp_5073_26_y_DC2_2_2i_runs_FRDF_DP0_2_PREOPS-1145_step3_31_20220629T074928Z.fits\n",
       "0  https://ccnetlsst03.in2p3.fr:65105/2.2i/runs/F...                                                                                                                                                                     \n",
       "1  https://ccnetlsst02.in2p3.fr:65105/2.2i/runs/F...                                                                                                                                                                     \n",
       "2  https://ccnetlsst02.in2p3.fr:65105/2.2i/runs/F...                                                                                                                                                                     \n",
       "3  https://ccnetlsst03.in2p3.fr:65105/2.2i/runs/F...                                                                                                                                                                     \n",
       "4  https://ccnetlsst03.in2p3.fr:65105/2.2i/runs/F...                                                                                                                                                                     "
      ]
     },
     "execution_count": 3,
     "metadata": {},
     "output_type": "execute_result"
    }
   ],
   "source": [
    "urls = pd.read_csv('../csv_files/deepCoadd_calexp_urls.csv')\n",
    "urls.head()"
   ]
  },
  {
   "cell_type": "code",
   "execution_count": 6,
   "id": "3a80bd42-38d7-412d-9a3f-1c0084d64ab1",
   "metadata": {},
   "outputs": [],
   "source": [
    "parts = np.array_split(urls,4)"
   ]
  },
  {
   "cell_type": "code",
   "execution_count": 7,
   "id": "904e65a4-2e89-4115-9686-4cf788481b55",
   "metadata": {},
   "outputs": [
    {
     "data": {
      "text/plain": [
       "[      https://ccnetlsst04.in2p3.fr:65105/2.2i/runs/FRDF/DP0.2/PREOPS-1145/step3_31/20220629T074928Z/deepCoadd_calexp/5073/26/y/deepCoadd_calexp_5073_26_y_DC2_2_2i_runs_FRDF_DP0_2_PREOPS-1145_step3_31_20220629T074928Z.fits\n",
       " 0      https://ccnetlsst03.in2p3.fr:65105/2.2i/runs/F...                                                                                                                                                                     \n",
       " 1      https://ccnetlsst02.in2p3.fr:65105/2.2i/runs/F...                                                                                                                                                                     \n",
       " 2      https://ccnetlsst02.in2p3.fr:65105/2.2i/runs/F...                                                                                                                                                                     \n",
       " 3      https://ccnetlsst03.in2p3.fr:65105/2.2i/runs/F...                                                                                                                                                                     \n",
       " 4      https://ccnetlsst03.in2p3.fr:65105/2.2i/runs/F...                                                                                                                                                                     \n",
       " ...                                                  ...                                                                                                                                                                     \n",
       " 11680  https://ccnetlsst04.in2p3.fr:65105/2.2i/runs/F...                                                                                                                                                                     \n",
       " 11681  https://ccnetlsst02.in2p3.fr:65105/2.2i/runs/F...                                                                                                                                                                     \n",
       " 11682  https://ccnetlsst02.in2p3.fr:65105/2.2i/runs/F...                                                                                                                                                                     \n",
       " 11683  https://ccnetlsst01.in2p3.fr:65105/2.2i/runs/F...                                                                                                                                                                     \n",
       " 11684  https://ccnetlsst02.in2p3.fr:65105/2.2i/runs/F...                                                                                                                                                                     \n",
       " \n",
       " [11685 rows x 1 columns],\n",
       "       https://ccnetlsst04.in2p3.fr:65105/2.2i/runs/FRDF/DP0.2/PREOPS-1145/step3_31/20220629T074928Z/deepCoadd_calexp/5073/26/y/deepCoadd_calexp_5073_26_y_DC2_2_2i_runs_FRDF_DP0_2_PREOPS-1145_step3_31_20220629T074928Z.fits\n",
       " 11685  https://ccnetlsst02.in2p3.fr:65105/2.2i/runs/F...                                                                                                                                                                     \n",
       " 11686  https://ccnetlsst01.in2p3.fr:65105/2.2i/runs/F...                                                                                                                                                                     \n",
       " 11687  https://ccnetlsst02.in2p3.fr:65105/2.2i/runs/F...                                                                                                                                                                     \n",
       " 11688  https://ccnetlsst03.in2p3.fr:65105/2.2i/runs/F...                                                                                                                                                                     \n",
       " 11689  https://ccnetlsst03.in2p3.fr:65105/2.2i/runs/F...                                                                                                                                                                     \n",
       " ...                                                  ...                                                                                                                                                                     \n",
       " 23365  https://ccnetlsst04.in2p3.fr:65105/2.2i/runs/F...                                                                                                                                                                     \n",
       " 23366  https://ccnetlsst03.in2p3.fr:65105/2.2i/runs/F...                                                                                                                                                                     \n",
       " 23367  https://ccnetlsst02.in2p3.fr:65105/2.2i/runs/F...                                                                                                                                                                     \n",
       " 23368  https://ccnetlsst01.in2p3.fr:65105/2.2i/runs/F...                                                                                                                                                                     \n",
       " 23369  https://ccnetlsst02.in2p3.fr:65105/2.2i/runs/F...                                                                                                                                                                     \n",
       " \n",
       " [11685 rows x 1 columns],\n",
       "       https://ccnetlsst04.in2p3.fr:65105/2.2i/runs/FRDF/DP0.2/PREOPS-1145/step3_31/20220629T074928Z/deepCoadd_calexp/5073/26/y/deepCoadd_calexp_5073_26_y_DC2_2_2i_runs_FRDF_DP0_2_PREOPS-1145_step3_31_20220629T074928Z.fits\n",
       " 23370  https://ccnetlsst02.in2p3.fr:65105/2.2i/runs/F...                                                                                                                                                                     \n",
       " 23371  https://ccnetlsst03.in2p3.fr:65105/2.2i/runs/F...                                                                                                                                                                     \n",
       " 23372  https://ccnetlsst02.in2p3.fr:65105/2.2i/runs/F...                                                                                                                                                                     \n",
       " 23373  https://ccnetlsst04.in2p3.fr:65105/2.2i/runs/F...                                                                                                                                                                     \n",
       " 23374  https://ccnetlsst04.in2p3.fr:65105/2.2i/runs/F...                                                                                                                                                                     \n",
       " ...                                                  ...                                                                                                                                                                     \n",
       " 35049  https://ccnetlsst03.in2p3.fr:65105/2.2i/runs/F...                                                                                                                                                                     \n",
       " 35050  https://ccnetlsst02.in2p3.fr:65105/2.2i/runs/F...                                                                                                                                                                     \n",
       " 35051  https://ccnetlsst02.in2p3.fr:65105/2.2i/runs/F...                                                                                                                                                                     \n",
       " 35052  https://ccnetlsst02.in2p3.fr:65105/2.2i/runs/F...                                                                                                                                                                     \n",
       " 35053  https://ccnetlsst01.in2p3.fr:65105/2.2i/runs/F...                                                                                                                                                                     \n",
       " \n",
       " [11684 rows x 1 columns],\n",
       "       https://ccnetlsst04.in2p3.fr:65105/2.2i/runs/FRDF/DP0.2/PREOPS-1145/step3_31/20220629T074928Z/deepCoadd_calexp/5073/26/y/deepCoadd_calexp_5073_26_y_DC2_2_2i_runs_FRDF_DP0_2_PREOPS-1145_step3_31_20220629T074928Z.fits\n",
       " 35054  https://ccnetlsst04.in2p3.fr:65105/2.2i/runs/F...                                                                                                                                                                     \n",
       " 35055  https://ccnetlsst02.in2p3.fr:65105/2.2i/runs/F...                                                                                                                                                                     \n",
       " 35056  https://ccnetlsst02.in2p3.fr:65105/2.2i/runs/F...                                                                                                                                                                     \n",
       " 35057  https://ccnetlsst01.in2p3.fr:65105/2.2i/runs/F...                                                                                                                                                                     \n",
       " 35058  https://ccnetlsst03.in2p3.fr:65105/2.2i/runs/F...                                                                                                                                                                     \n",
       " ...                                                  ...                                                                                                                                                                     \n",
       " 46733  https://ccnetlsst02.in2p3.fr:65105/2.2i/runs/F...                                                                                                                                                                     \n",
       " 46734  https://ccnetlsst04.in2p3.fr:65105/2.2i/runs/F...                                                                                                                                                                     \n",
       " 46735  https://ccnetlsst02.in2p3.fr:65105/2.2i/runs/F...                                                                                                                                                                     \n",
       " 46736  https://ccnetlsst01.in2p3.fr:65105/2.2i/runs/F...                                                                                                                                                                     \n",
       " 46737  https://ccnetlsst02.in2p3.fr:65105/2.2i/runs/F...                                                                                                                                                                     \n",
       " \n",
       " [11684 rows x 1 columns]]"
      ]
     },
     "execution_count": 7,
     "metadata": {},
     "output_type": "execute_result"
    }
   ],
   "source": [
    "parts"
   ]
  },
  {
   "cell_type": "code",
   "execution_count": 9,
   "id": "4e3f87df-636b-42e9-a8e8-0b231ca9e732",
   "metadata": {},
   "outputs": [],
   "source": [
    "for i, part in enumerate(parts):\n",
    "    part.to_csv('deepCoadd_calexp_urls_{i}.csv', index=False, header=False)"
   ]
  },
  {
   "cell_type": "code",
   "execution_count": null,
   "id": "c4c1c26d-7d4a-4a74-b3ae-dd82aef98499",
   "metadata": {},
   "outputs": [],
   "source": []
  }
 ],
 "metadata": {
  "kernelspec": {
   "display_name": "Python 3 (ipykernel)",
   "language": "python",
   "name": "python3"
  },
  "language_info": {
   "codemirror_mode": {
    "name": "ipython",
    "version": 3
   },
   "file_extension": ".py",
   "mimetype": "text/x-python",
   "name": "python",
   "nbconvert_exporter": "python",
   "pygments_lexer": "ipython3",
   "version": "3.11.7"
  }
 },
 "nbformat": 4,
 "nbformat_minor": 5
}
