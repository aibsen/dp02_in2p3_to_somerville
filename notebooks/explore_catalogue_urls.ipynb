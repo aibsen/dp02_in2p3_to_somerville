{
 "cells": [
  {
   "cell_type": "code",
   "execution_count": 1,
   "id": "ab77cc00-ca54-4d52-a00b-3f3491e715ff",
   "metadata": {},
   "outputs": [],
   "source": [
    "import os\n",
    "import sys\n",
    "import pandas as pd"
   ]
  },
  {
   "cell_type": "code",
   "execution_count": 4,
   "id": "a58cd5d5-5335-4af5-938e-455443ddb680",
   "metadata": {},
   "outputs": [],
   "source": [
    "url_path = '/home/ubuntu/dp02_in2p3_to_somerville/csv_files/object_urls.csv'"
   ]
  },
  {
   "cell_type": "code",
   "execution_count": 5,
   "id": "cb871d68-1f10-4d62-873a-7437d73a0664",
   "metadata": {},
   "outputs": [],
   "source": [
    "urls = pd.read_csv(url_path, header=None, dtype=str, names=['urls'])"
   ]
  },
  {
   "cell_type": "code",
   "execution_count": 11,
   "id": "f85267fe-f352-4552-a535-3aaa6873e9fa",
   "metadata": {},
   "outputs": [
    {
     "data": {
      "text/plain": [
       "8246"
      ]
     },
     "execution_count": 11,
     "metadata": {},
     "output_type": "execute_result"
    }
   ],
   "source": [
    "urls.size"
   ]
  },
  {
   "cell_type": "code",
   "execution_count": 7,
   "id": "4306b670-4f18-4999-af97-d64b16cb07a9",
   "metadata": {},
   "outputs": [],
   "source": [
    "object_urls = urls[urls['urls'].str.contains('/objectTable/', na=False)]"
   ]
  },
  {
   "cell_type": "code",
   "execution_count": 10,
   "id": "ad1076a4-cb49-40f3-bc0b-84301fd74bd7",
   "metadata": {},
   "outputs": [
    {
     "name": "stdout",
     "output_type": "stream",
     "text": [
      "7784\n"
     ]
    }
   ],
   "source": [
    "print(object_urls.size)"
   ]
  },
  {
   "cell_type": "code",
   "execution_count": 12,
   "id": "1ef6e7e6-334b-4ad4-a149-6eca86b86dcd",
   "metadata": {},
   "outputs": [],
   "source": [
    "object_urls['urls'].to_csv('/home/ubuntu/dp02_in2p3_to_somerville/csv_files/object_urls_2.csv',index=False, header=False)"
   ]
  }
 ],
 "metadata": {
  "kernelspec": {
   "display_name": "Python 3 (ipykernel)",
   "language": "python",
   "name": "python3"
  },
  "language_info": {
   "codemirror_mode": {
    "name": "ipython",
    "version": 3
   },
   "file_extension": ".py",
   "mimetype": "text/x-python",
   "name": "python",
   "nbconvert_exporter": "python",
   "pygments_lexer": "ipython3",
   "version": "3.11.7"
  }
 },
 "nbformat": 4,
 "nbformat_minor": 5
}
